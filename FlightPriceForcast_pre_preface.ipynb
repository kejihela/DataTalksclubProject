{
 "cells": [
  {
   "cell_type": "code",
   "execution_count": 1,
   "id": "5ae286e2-4e00-484b-882b-29af24f7caf9",
   "metadata": {},
   "outputs": [],
   "source": [
    "import pandas as pd\n",
    "from sklearn.feature_extraction import DictVectorizer\n",
    "from sklearn.model_selection import train_test_split\n",
    "from sklearn.linear_model import LogisticRegression\n",
    "import numpy as np\n",
    "from sklearn.metrics import mean_squared_error\n",
    "import seaborn as sns\n",
    "import matplotlib.pyplot as plt\n",
    "from sklearn.linear_model import Lasso\n",
    "import pickle\n",
    "import mlflow\n",
    "import xgboost as xgb\n",
    "import pathlib\n",
    "#from prefect import flow, task"
   ]
  },
  {
   "cell_type": "code",
   "execution_count": 3,
   "id": "11a1fb3d-04bf-460c-b5b7-8342acc2b984",
   "metadata": {},
   "outputs": [],
   "source": [
    "def load_data():\n",
    "    df= pd.read_csv(\"dataset/flight_dataset.csv\")\n",
    "    categorical = [\"Airline\", \"Source\", \"Destination\"]\n",
    "    numerical = [\"Total_Stops\",\"Duration_hours\",\"Duration_min\"] \n",
    "    df = df[categorical + numerical]\n",
    "    df.Duration_hours = df.Duration_hours *60\n",
    "    df[\"duration\"] = df[\"Duration_hours\"] + df[\"Duration_min\"]\n",
    "    return df"
   ]
  },
  {
   "cell_type": "code",
   "execution_count": 6,
   "id": "c7a34fe3",
   "metadata": {},
   "outputs": [],
   "source": [
    "def data_transformation(df):\n",
    "    target = df[\"duration\"].values\n",
    "    df = df.drop([\"Duration_hours\", \"Duration_min\", \"duration\"], axis = 1)\n",
    "    df = df.to_dict(orient = \"records\")\n",
    "    dv = DictVectorizer()\n",
    "    data_df = dv.fit_transform(df)\n",
    "    train_df = data_df[:8000]\n",
    "    test_df = data_df[8000:]\n",
    "    y_train =  target[:8000]\n",
    "    y_test = target[8000:]\n",
    "    return train_df, test_df, y_train, y_test, dv\n",
    "\n",
    "\n"
   ]
  },
  {
   "cell_type": "code",
   "execution_count": 11,
   "id": "272deb26-f97f-40dc-8530-a74a36a8a655",
   "metadata": {},
   "outputs": [],
   "source": [
    "def train_model(\n",
    "    X_train,\n",
    "    X_val,\n",
    "    y_train,\n",
    "    y_val,\n",
    "    dv\n",
    ") -> None:\n",
    "    \"\"\"train a model with best hyperparams and write everything out\"\"\"\n",
    "\n",
    "    with mlflow.start_run():\n",
    "        train = xgb.DMatrix(X_train, label=y_train)\n",
    "        valid = xgb.DMatrix(X_val, label=y_val)\n",
    "\n",
    "        best_params = {\n",
    "            \"learning_rate\": 0.16968989909872087,\n",
    "            \"max_depth\": 25,\n",
    "            \"min_child_weight\": 5.591678840975327,\n",
    "            \"objective\": \"reg:linear\",\n",
    "            \"reg_alpha\": 0.11973660565878817,\n",
    "            \"reg_lambda\": 0.020803099001553724,\n",
    "            \"seed\": 42,\n",
    "        }\n",
    "\n",
    "        mlflow.log_params(best_params)\n",
    "\n",
    "        booster = xgb.train(\n",
    "            params=best_params,\n",
    "            dtrain=train,\n",
    "            num_boost_round=100,\n",
    "            evals=[(valid, \"validation\")],\n",
    "            early_stopping_rounds=5,\n",
    "        )\n",
    "\n",
    "        y_pred = booster.predict(valid)\n",
    "        rmse = mean_squared_error(y_val, y_pred,squared=False)\n",
    "        mlflow.log_metric(\"rmse\", rmse)\n",
    "\n",
    "        pathlib.Path(\"models\").mkdir(exist_ok=True)\n",
    "        with open(\"models/preprocessor.b\", \"wb\") as f_out:\n",
    "            pickle.dump(dv, f_out)\n",
    "        mlflow.log_artifact(\"models/preprocessor.b\", artifact_path=\"preprocessor\")\n",
    "\n",
    "        mlflow.xgboost.log_model(booster, artifact_path=\"models_mlflow\")\n",
    "    return None"
   ]
  },
  {
   "cell_type": "code",
   "execution_count": 13,
   "id": "c3fff868-e75d-470b-8ddf-4a4bf0d99c11",
   "metadata": {},
   "outputs": [
    {
     "name": "stdout",
     "output_type": "stream",
     "text": [
      "[0]\tvalidation-rmse:462.59652\n",
      "[1]\tvalidation-rmse:419.41864\n",
      "[2]\tvalidation-rmse:386.83512\n",
      "[3]\tvalidation-rmse:362.64709\n",
      "[4]\tvalidation-rmse:344.96112\n",
      "[5]\tvalidation-rmse:332.21034\n",
      "[6]\tvalidation-rmse:323.10859\n",
      "[7]\tvalidation-rmse:316.67384\n",
      "[8]\tvalidation-rmse:312.14459\n",
      "[9]\tvalidation-rmse:308.97998\n",
      "[10]\tvalidation-rmse:306.76888\n",
      "[11]\tvalidation-rmse:305.22975\n",
      "[12]\tvalidation-rmse:304.16134\n",
      "[13]\tvalidation-rmse:303.41721\n",
      "[14]\tvalidation-rmse:302.92305\n",
      "[15]\tvalidation-rmse:302.58464\n",
      "[16]\tvalidation-rmse:302.35317\n",
      "[17]\tvalidation-rmse:302.16594\n",
      "[18]\tvalidation-rmse:302.03975\n",
      "[19]\tvalidation-rmse:301.94045\n",
      "[20]\tvalidation-rmse:301.86893\n",
      "[21]\tvalidation-rmse:301.81737\n",
      "[22]\tvalidation-rmse:301.77959\n",
      "[23]\tvalidation-rmse:301.77473\n",
      "[24]\tvalidation-rmse:301.72869\n",
      "[25]\tvalidation-rmse:301.69611\n",
      "[26]\tvalidation-rmse:301.67513\n",
      "[27]\tvalidation-rmse:301.68706\n",
      "[28]\tvalidation-rmse:301.70255\n",
      "[29]\tvalidation-rmse:301.71751\n",
      "[30]\tvalidation-rmse:301.72523\n",
      "[31]\tvalidation-rmse:301.73002\n"
     ]
    },
    {
     "name": "stderr",
     "output_type": "stream",
     "text": [
      "g:\\Anaconda\\envs\\env\\lib\\site-packages\\xgboost\\core.py:158: UserWarning: [22:47:39] WARNING: C:\\buildkite-agent\\builds\\buildkite-windows-cpu-autoscaling-group-i-06abd128ca6c1688d-1\\xgboost\\xgboost-ci-windows\\src\\objective\\regression_obj.cu:227: reg:linear is now deprecated in favor of reg:squarederror.\n",
      "  warnings.warn(smsg, UserWarning)\n",
      "g:\\Anaconda\\envs\\env\\lib\\site-packages\\xgboost\\core.py:158: UserWarning: [22:47:39] WARNING: C:\\buildkite-agent\\builds\\buildkite-windows-cpu-autoscaling-group-i-06abd128ca6c1688d-1\\xgboost\\xgboost-ci-windows\\src\\c_api\\c_api.cc:1374: Saving model in the UBJSON format as default.  You can use file extension: `json`, `ubj` or `deprecated` to choose between formats.\n",
      "  warnings.warn(smsg, UserWarning)\n",
      "g:\\Anaconda\\envs\\env\\lib\\site-packages\\_distutils_hack\\__init__.py:11: UserWarning: Distutils was imported before Setuptools, but importing Setuptools also replaces the `distutils` module in `sys.modules`. This may lead to undesirable behaviors or errors. To avoid these issues, avoid using distutils directly, ensure that setuptools is installed in the traditional way (e.g. not an editable install), and/or make sure that setuptools is always imported before distutils.\n",
      "  warnings.warn(\n",
      "g:\\Anaconda\\envs\\env\\lib\\site-packages\\_distutils_hack\\__init__.py:26: UserWarning: Setuptools is replacing distutils.\n",
      "  warnings.warn(\"Setuptools is replacing distutils.\")\n"
     ]
    }
   ],
   "source": [
    "def main_flow():\n",
    "\n",
    "    mlflow.set_tracking_uri(\"sqlite:///mlflow.db\")\n",
    "    \n",
    "    mlflow.set_experiment(\"Flight prediction time\")\n",
    "    \n",
    "\n",
    "    data = load_data()\n",
    "    X_train, X_test, y_train, y_test, dv = data_transformation(data)\n",
    "\n",
    "    train_model(X_train, X_test, y_train, y_test, dv )\n",
    "\n",
    "\n",
    "if __name__ == \"__main__\":\n",
    "    main_flow()"
   ]
  },
  {
   "cell_type": "code",
   "execution_count": null,
   "id": "6675d582",
   "metadata": {},
   "outputs": [],
   "source": [
    "mlflow.end_run() "
   ]
  },
  {
   "cell_type": "code",
   "execution_count": null,
   "id": "ead492b8",
   "metadata": {},
   "outputs": [],
   "source": []
  }
 ],
 "metadata": {
  "kernelspec": {
   "display_name": "Python 3 (ipykernel)",
   "language": "python",
   "name": "python3"
  },
  "language_info": {
   "codemirror_mode": {
    "name": "ipython",
    "version": 3
   },
   "file_extension": ".py",
   "mimetype": "text/x-python",
   "name": "python",
   "nbconvert_exporter": "python",
   "pygments_lexer": "ipython3",
   "version": "3.8.19"
  }
 },
 "nbformat": 4,
 "nbformat_minor": 5
}
