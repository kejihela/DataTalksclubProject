{
 "cells": [
  {
   "cell_type": "code",
   "execution_count": 1,
   "id": "5ae286e2-4e00-484b-882b-29af24f7caf9",
   "metadata": {},
   "outputs": [],
   "source": [
    "import pandas as pd\n",
    "from sklearn.feature_extraction import DictVectorizer\n",
    "from sklearn.model_selection import train_test_split\n",
    "from sklearn.linear_model import LogisticRegression\n",
    "import numpy as np\n",
    "from sklearn.metrics import mean_squared_error\n",
    "import seaborn as sns\n",
    "import matplotlib.pyplot as plt\n",
    "from sklearn.linear_model import Lasso\n",
    "import pickle\n",
    "import mlflow\n",
    "import xgboost as xgb\n",
    "from prefect import flow, task"
   ]
  },
  {
   "cell_type": "code",
   "execution_count": 2,
   "id": "11a1fb3d-04bf-460c-b5b7-8342acc2b984",
   "metadata": {},
   "outputs": [],
   "source": [
    "def load_data():\n",
    "    df= pd.read_csv(\"dataset/flight_dataset.csv\")\n",
    "    categorical = [\"Airline\", \"Source\", \"Destination\"]\n",
    "    numerical = [\"Total_Stops\",\"Duration_hours\",\"Duration_min\"] \n",
    "    df = df[categorical + numerical]\n",
    "    df.Duration_hours = df.Duration_hours *60\n",
    "    df[\"duration\"] = df[\"Duration_hours\"] + df[\"Duration_min\"]\n",
    "    return df"
   ]
  },
  {
   "cell_type": "code",
   "execution_count": 9,
   "id": "c7a34fe3",
   "metadata": {},
   "outputs": [],
   "source": [
    "def data_transformation(df):\n",
    "    target = df[\"duration\"].values\n",
    "    df = df.drop([\"Duration_hours\", \"Duration_min\", \"duration\"], axis = 1)\n",
    "    df = df.to_dict(orient = \"records\")\n",
    "    dv = DictVectorizer()\n",
    "    data_df = dv.fit_transform(df)\n",
    "    train_df = data_df[:8000]\n",
    "    test_df = data_df[8000:]\n",
    "    y_train =  target[:8000]\n",
    "    y_test = target[8000:]\n",
    "    return train_df, test_df, y_train, y_test\n",
    "\n",
    "\n"
   ]
  },
  {
   "cell_type": "code",
   "execution_count": 11,
   "id": "272deb26-f97f-40dc-8530-a74a36a8a655",
   "metadata": {},
   "outputs": [],
   "source": [
    "def train_model(\n",
    "    X_train: scipy.sparse._csr.csr_matrix,\n",
    "    X_val: scipy.sparse._csr.csr_matrix,\n",
    "    y_train: np.ndarray,\n",
    "    y_val: np.ndarray,\n",
    "    dv: sklearn.feature_extraction.DictVectorizer,\n",
    ") -> None:\n",
    "    \"\"\"train a model with best hyperparams and write everything out\"\"\"\n",
    "\n",
    "    with mlflow.start_run():\n",
    "        train = xgb.DMatrix(X_train, label=y_train)\n",
    "        valid = xgb.DMatrix(X_val, label=y_val)\n",
    "\n",
    "        best_params = {\n",
    "            \"learning_rate\": 0.09585355369315604,\n",
    "            \"max_depth\": 30,\n",
    "            \"min_child_weight\": 1.060597050922164,\n",
    "            \"objective\": \"reg:linear\",\n",
    "            \"reg_alpha\": 0.018060244040060163,\n",
    "            \"reg_lambda\": 0.011658731377413597,\n",
    "            \"seed\": 42,\n",
    "        }\n",
    "\n",
    "        mlflow.log_params(best_params)\n",
    "\n",
    "        booster = xgb.train(\n",
    "            params=best_params,\n",
    "            dtrain=train,\n",
    "            num_boost_round=100,\n",
    "            evals=[(valid, \"validation\")],\n",
    "            early_stopping_rounds=20,\n",
    "        )\n",
    "\n",
    "        y_pred = booster.predict(valid)\n",
    "        rmse = mean_squared_error(y_val, y_pred, squared=False)\n",
    "        mlflow.log_metric(\"rmse\", rmse)\n",
    "\n",
    "        pathlib.Path(\"models\").mkdir(exist_ok=True)\n",
    "        with open(\"models/preprocessor.b\", \"wb\") as f_out:\n",
    "            pickle.dump(dv, f_out)\n",
    "        mlflow.log_artifact(\"models/preprocessor.b\", artifact_path=\"preprocessor\")\n",
    "\n",
    "        mlflow.xgboost.log_model(booster, artifact_path=\"models_mlflow\")\n",
    "    return None"
   ]
  },
  {
   "cell_type": "code",
   "execution_count": 13,
   "id": "c3fff868-e75d-470b-8ddf-4a4bf0d99c11",
   "metadata": {},
   "outputs": [],
   "source": []
  }
 ],
 "metadata": {
  "kernelspec": {
   "display_name": "Python 3 (ipykernel)",
   "language": "python",
   "name": "python3"
  },
  "language_info": {
   "codemirror_mode": {
    "name": "ipython",
    "version": 3
   },
   "file_extension": ".py",
   "mimetype": "text/x-python",
   "name": "python",
   "nbconvert_exporter": "python",
   "pygments_lexer": "ipython3",
   "version": "3.9.12"
  }
 },
 "nbformat": 4,
 "nbformat_minor": 5
}
